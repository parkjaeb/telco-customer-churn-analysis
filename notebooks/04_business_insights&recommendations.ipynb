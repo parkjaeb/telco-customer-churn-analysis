{
 "cells": [
  {
   "cell_type": "markdown",
   "metadata": {},
   "source": [
    "1. Key Takeaways\n",
    "\n",
    "- The overall churn rate is ~26.6%, indicating significant revenue risk.\n",
    "- Customers on month-to-month contracts are much more likely to churn.\n",
    "- Lack of services like Online Security and Tech Support is correlated with churn.\n",
    "- Fiber optic internet users are churning more than DSL users.\n",
    "- Tenure is strongly linked to retention: newer customers are more likely to churn.\n"
   ]
  },
  {
   "cell_type": "markdown",
   "metadata": {},
   "source": [
    "2. Business Recommendations\n",
    "\n",
    "Orangize into clear, practical suggestions such as:\n",
    "\n",
    "- Encourage Long-Term Contracts \n",
    "Customers on month-to-month plans churn at a much higher rate. Promote annual or 2-year contracts with loyalty discounts to reduce churn.\n",
    "\n",
    "- Bundle Value-Added Services\n",
    "Churn is higher among customers without Online Security or Tech Support. Offer bundled packages or free trials of these services to increase stickiness.\n",
    "\n",
    "- Target New Customers with Retention Campaigns\n",
    "Customers with <12 months tenure are at highest churn risk. Focus retention emails and onboarding programs in their first year.\n",
    "\n",
    "- Monitor High-Paying Customers \n",
    "Customers with higher MonthlyCharges churn more. Consider offering customized support or loyalty perks for this group.\n",
    "\n",
    "- Investigate Fiber Optic Experience\n",
    "Fiber users churn more - possibly due to reliability issues. Conduct user interviews or NPS surveys to find the foot cause."
   ]
  }
 ],
 "metadata": {
  "kernelspec": {
   "display_name": "Python 3.12.1 ('venv': venv)",
   "language": "python",
   "name": "python3"
  },
  "language_info": {
   "name": "python",
   "version": "3.12.1"
  },
  "orig_nbformat": 4,
  "vscode": {
   "interpreter": {
    "hash": "ed53ad9244330a40cefb4a6bed96230cde861751ea012204f560b377f11f684d"
   }
  }
 },
 "nbformat": 4,
 "nbformat_minor": 2
}
